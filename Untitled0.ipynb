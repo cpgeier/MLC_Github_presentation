{
  "nbformat": 4,
  "nbformat_minor": 0,
  "metadata": {
    "colab": {
      "name": "Untitled0.ipynb",
      "version": "0.3.2",
      "provenance": []
    },
    "kernelspec": {
      "name": "python3",
      "display_name": "Python 3"
    }
  },
  "cells": [
    {
      "metadata": {
        "id": "qO09yuRQE_oA",
        "colab_type": "code",
        "colab": {
          "base_uri": "https://localhost:8080/",
          "height": 105
        },
        "outputId": "d455e698-f0fd-45c4-dbca-cb9129777c86"
      },
      "cell_type": "code",
      "source": [
        "from google.colab import drive\n",
        "drive.mount('/gdrive')"
      ],
      "execution_count": 3,
      "outputs": [
        {
          "output_type": "stream",
          "text": [
            "Go to this URL in a browser: https://accounts.google.com/o/oauth2/auth?client_id=947318989803-6bn6qk8qdgf4n4g3pfee6491hc0brc4i.apps.googleusercontent.com&redirect_uri=urn%3Aietf%3Awg%3Aoauth%3A2.0%3Aoob&scope=email%20https%3A%2F%2Fwww.googleapis.com%2Fauth%2Fdocs.test%20https%3A%2F%2Fwww.googleapis.com%2Fauth%2Fdrive%20https%3A%2F%2Fwww.googleapis.com%2Fauth%2Fdrive.photos.readonly%20https%3A%2F%2Fwww.googleapis.com%2Fauth%2Fpeopleapi.readonly&response_type=code\n",
            "Enter your authorization code:\n",
            "··········\n",
            "Mounted at /gdrive\n"
          ],
          "name": "stdout"
        }
      ]
    },
    {
      "metadata": {
        "id": "m5uHziHaHOD9",
        "colab_type": "code",
        "colab": {}
      },
      "cell_type": "code",
      "source": [
        "import pandas as pd\n",
        "import numpy as np\n",
        "import matplotlib.pyplot as plt\n",
        "import os"
      ],
      "execution_count": 0,
      "outputs": []
    },
    {
      "metadata": {
        "id": "xCMao2itH7hM",
        "colab_type": "code",
        "colab": {
          "base_uri": "https://localhost:8080/",
          "height": 85
        },
        "outputId": "c03c31ef-29e1-40a9-e398-fd4a5d17112f"
      },
      "cell_type": "code",
      "source": [
        "os.listdir('/gdrive/My Drive/bitcoin-historical-data')"
      ],
      "execution_count": 8,
      "outputs": [
        {
          "output_type": "execute_result",
          "data": {
            "text/plain": [
              "['coincheckJPY_1-min_data_2014-10-31_to_2018-06-27.csv',\n",
              " 'coinbaseUSD_1-min_data_2014-12-01_to_2018-06-27.csv',\n",
              " 'bitstampUSD_1-min_data_2012-01-01_to_2018-06-27.csv',\n",
              " 'bitflyerJPY_1-min_data_2017-07-04_to_2018-06-27.csv']"
            ]
          },
          "metadata": {
            "tags": []
          },
          "execution_count": 8
        }
      ]
    },
    {
      "metadata": {
        "id": "7qR3Ddg4IDr0",
        "colab_type": "code",
        "colab": {}
      },
      "cell_type": "code",
      "source": [
        "df = pd.read_csv(\"/gdrive/My Drive/bitcoin-historical-data/coinbaseUSD_1-min_data_2014-12-01_to_2018-06-27.csv\")"
      ],
      "execution_count": 0,
      "outputs": []
    },
    {
      "metadata": {
        "id": "wVql3wArJZ9s",
        "colab_type": "code",
        "colab": {
          "base_uri": "https://localhost:8080/",
          "height": 223
        },
        "outputId": "b3825cbf-d2f3-405d-e22a-039700241c3e"
      },
      "cell_type": "code",
      "source": [
        "df.head()"
      ],
      "execution_count": 13,
      "outputs": [
        {
          "output_type": "execute_result",
          "data": {
            "text/html": [
              "<div>\n",
              "<style scoped>\n",
              "    .dataframe tbody tr th:only-of-type {\n",
              "        vertical-align: middle;\n",
              "    }\n",
              "\n",
              "    .dataframe tbody tr th {\n",
              "        vertical-align: top;\n",
              "    }\n",
              "\n",
              "    .dataframe thead th {\n",
              "        text-align: right;\n",
              "    }\n",
              "</style>\n",
              "<table border=\"1\" class=\"dataframe\">\n",
              "  <thead>\n",
              "    <tr style=\"text-align: right;\">\n",
              "      <th></th>\n",
              "      <th>Timestamp</th>\n",
              "      <th>Open</th>\n",
              "      <th>High</th>\n",
              "      <th>Low</th>\n",
              "      <th>Close</th>\n",
              "      <th>Volume_(BTC)</th>\n",
              "      <th>Volume_(Currency)</th>\n",
              "      <th>Weighted_Price</th>\n",
              "    </tr>\n",
              "  </thead>\n",
              "  <tbody>\n",
              "    <tr>\n",
              "      <th>0</th>\n",
              "      <td>1417411980</td>\n",
              "      <td>300.0</td>\n",
              "      <td>300.0</td>\n",
              "      <td>300.0</td>\n",
              "      <td>300.0</td>\n",
              "      <td>0.01</td>\n",
              "      <td>3.0</td>\n",
              "      <td>300.0</td>\n",
              "    </tr>\n",
              "    <tr>\n",
              "      <th>1</th>\n",
              "      <td>1417412040</td>\n",
              "      <td>300.0</td>\n",
              "      <td>300.0</td>\n",
              "      <td>300.0</td>\n",
              "      <td>300.0</td>\n",
              "      <td>0.01</td>\n",
              "      <td>3.0</td>\n",
              "      <td>300.0</td>\n",
              "    </tr>\n",
              "    <tr>\n",
              "      <th>2</th>\n",
              "      <td>1417412100</td>\n",
              "      <td>300.0</td>\n",
              "      <td>300.0</td>\n",
              "      <td>300.0</td>\n",
              "      <td>300.0</td>\n",
              "      <td>0.01</td>\n",
              "      <td>3.0</td>\n",
              "      <td>300.0</td>\n",
              "    </tr>\n",
              "    <tr>\n",
              "      <th>3</th>\n",
              "      <td>1417412160</td>\n",
              "      <td>300.0</td>\n",
              "      <td>300.0</td>\n",
              "      <td>300.0</td>\n",
              "      <td>300.0</td>\n",
              "      <td>0.01</td>\n",
              "      <td>3.0</td>\n",
              "      <td>300.0</td>\n",
              "    </tr>\n",
              "    <tr>\n",
              "      <th>4</th>\n",
              "      <td>1417412220</td>\n",
              "      <td>300.0</td>\n",
              "      <td>300.0</td>\n",
              "      <td>300.0</td>\n",
              "      <td>300.0</td>\n",
              "      <td>0.01</td>\n",
              "      <td>3.0</td>\n",
              "      <td>300.0</td>\n",
              "    </tr>\n",
              "  </tbody>\n",
              "</table>\n",
              "</div>"
            ],
            "text/plain": [
              "    Timestamp   Open   High    Low  Close  Volume_(BTC)  Volume_(Currency)  \\\n",
              "0  1417411980  300.0  300.0  300.0  300.0          0.01                3.0   \n",
              "1  1417412040  300.0  300.0  300.0  300.0          0.01                3.0   \n",
              "2  1417412100  300.0  300.0  300.0  300.0          0.01                3.0   \n",
              "3  1417412160  300.0  300.0  300.0  300.0          0.01                3.0   \n",
              "4  1417412220  300.0  300.0  300.0  300.0          0.01                3.0   \n",
              "\n",
              "   Weighted_Price  \n",
              "0           300.0  \n",
              "1           300.0  \n",
              "2           300.0  \n",
              "3           300.0  \n",
              "4           300.0  "
            ]
          },
          "metadata": {
            "tags": []
          },
          "execution_count": 13
        }
      ]
    },
    {
      "metadata": {
        "id": "wEf3oYWoKMgb",
        "colab_type": "code",
        "colab": {
          "base_uri": "https://localhost:8080/",
          "height": 290
        },
        "outputId": "9af89d77-3919-4be8-b511-40d7823b195a"
      },
      "cell_type": "code",
      "source": [
        "df.describe()"
      ],
      "execution_count": 16,
      "outputs": [
        {
          "output_type": "execute_result",
          "data": {
            "text/html": [
              "<div>\n",
              "<style scoped>\n",
              "    .dataframe tbody tr th:only-of-type {\n",
              "        vertical-align: middle;\n",
              "    }\n",
              "\n",
              "    .dataframe tbody tr th {\n",
              "        vertical-align: top;\n",
              "    }\n",
              "\n",
              "    .dataframe thead th {\n",
              "        text-align: right;\n",
              "    }\n",
              "</style>\n",
              "<table border=\"1\" class=\"dataframe\">\n",
              "  <thead>\n",
              "    <tr style=\"text-align: right;\">\n",
              "      <th></th>\n",
              "      <th>Timestamp</th>\n",
              "      <th>Open</th>\n",
              "      <th>High</th>\n",
              "      <th>Low</th>\n",
              "      <th>Close</th>\n",
              "      <th>Volume_(BTC)</th>\n",
              "      <th>Volume_(Currency)</th>\n",
              "      <th>Weighted_Price</th>\n",
              "    </tr>\n",
              "  </thead>\n",
              "  <tbody>\n",
              "    <tr>\n",
              "      <th>count</th>\n",
              "      <td>1.819074e+06</td>\n",
              "      <td>1.819074e+06</td>\n",
              "      <td>1.819074e+06</td>\n",
              "      <td>1.819074e+06</td>\n",
              "      <td>1.819074e+06</td>\n",
              "      <td>1.819074e+06</td>\n",
              "      <td>1.819074e+06</td>\n",
              "      <td>1.819074e+06</td>\n",
              "    </tr>\n",
              "    <tr>\n",
              "      <th>mean</th>\n",
              "      <td>1.475477e+09</td>\n",
              "      <td>2.675297e+03</td>\n",
              "      <td>2.676668e+03</td>\n",
              "      <td>2.673809e+03</td>\n",
              "      <td>2.675296e+03</td>\n",
              "      <td>7.655652e+00</td>\n",
              "      <td>3.362466e+04</td>\n",
              "      <td>2.675235e+03</td>\n",
              "    </tr>\n",
              "    <tr>\n",
              "      <th>std</th>\n",
              "      <td>3.152261e+07</td>\n",
              "      <td>3.825363e+03</td>\n",
              "      <td>3.827901e+03</td>\n",
              "      <td>3.822689e+03</td>\n",
              "      <td>3.825395e+03</td>\n",
              "      <td>1.808389e+01</td>\n",
              "      <td>1.414530e+05</td>\n",
              "      <td>3.825293e+03</td>\n",
              "    </tr>\n",
              "    <tr>\n",
              "      <th>min</th>\n",
              "      <td>1.417412e+09</td>\n",
              "      <td>6.000000e-02</td>\n",
              "      <td>6.000000e-02</td>\n",
              "      <td>6.000000e-02</td>\n",
              "      <td>6.000000e-02</td>\n",
              "      <td>1.000000e-08</td>\n",
              "      <td>2.641700e-06</td>\n",
              "      <td>6.000000e-02</td>\n",
              "    </tr>\n",
              "    <tr>\n",
              "      <th>25%</th>\n",
              "      <td>1.448199e+09</td>\n",
              "      <td>3.632800e+02</td>\n",
              "      <td>3.633800e+02</td>\n",
              "      <td>3.631900e+02</td>\n",
              "      <td>3.632700e+02</td>\n",
              "      <td>7.821000e-01</td>\n",
              "      <td>4.139733e+02</td>\n",
              "      <td>3.632763e+02</td>\n",
              "    </tr>\n",
              "    <tr>\n",
              "      <th>50%</th>\n",
              "      <td>1.475485e+09</td>\n",
              "      <td>6.665400e+02</td>\n",
              "      <td>6.666900e+02</td>\n",
              "      <td>6.663400e+02</td>\n",
              "      <td>6.665300e+02</td>\n",
              "      <td>2.590000e+00</td>\n",
              "      <td>2.171610e+03</td>\n",
              "      <td>6.665237e+02</td>\n",
              "    </tr>\n",
              "    <tr>\n",
              "      <th>75%</th>\n",
              "      <td>1.502772e+09</td>\n",
              "      <td>3.666010e+03</td>\n",
              "      <td>3.668000e+03</td>\n",
              "      <td>3.663780e+03</td>\n",
              "      <td>3.665940e+03</td>\n",
              "      <td>7.540866e+00</td>\n",
              "      <td>1.456778e+04</td>\n",
              "      <td>3.665488e+03</td>\n",
              "    </tr>\n",
              "    <tr>\n",
              "      <th>max</th>\n",
              "      <td>1.530058e+09</td>\n",
              "      <td>1.989199e+04</td>\n",
              "      <td>1.989199e+04</td>\n",
              "      <td>1.989198e+04</td>\n",
              "      <td>1.989199e+04</td>\n",
              "      <td>1.563267e+03</td>\n",
              "      <td>1.997076e+07</td>\n",
              "      <td>1.989199e+04</td>\n",
              "    </tr>\n",
              "  </tbody>\n",
              "</table>\n",
              "</div>"
            ],
            "text/plain": [
              "          Timestamp          Open          High           Low         Close  \\\n",
              "count  1.819074e+06  1.819074e+06  1.819074e+06  1.819074e+06  1.819074e+06   \n",
              "mean   1.475477e+09  2.675297e+03  2.676668e+03  2.673809e+03  2.675296e+03   \n",
              "std    3.152261e+07  3.825363e+03  3.827901e+03  3.822689e+03  3.825395e+03   \n",
              "min    1.417412e+09  6.000000e-02  6.000000e-02  6.000000e-02  6.000000e-02   \n",
              "25%    1.448199e+09  3.632800e+02  3.633800e+02  3.631900e+02  3.632700e+02   \n",
              "50%    1.475485e+09  6.665400e+02  6.666900e+02  6.663400e+02  6.665300e+02   \n",
              "75%    1.502772e+09  3.666010e+03  3.668000e+03  3.663780e+03  3.665940e+03   \n",
              "max    1.530058e+09  1.989199e+04  1.989199e+04  1.989198e+04  1.989199e+04   \n",
              "\n",
              "       Volume_(BTC)  Volume_(Currency)  Weighted_Price  \n",
              "count  1.819074e+06       1.819074e+06    1.819074e+06  \n",
              "mean   7.655652e+00       3.362466e+04    2.675235e+03  \n",
              "std    1.808389e+01       1.414530e+05    3.825293e+03  \n",
              "min    1.000000e-08       2.641700e-06    6.000000e-02  \n",
              "25%    7.821000e-01       4.139733e+02    3.632763e+02  \n",
              "50%    2.590000e+00       2.171610e+03    6.665237e+02  \n",
              "75%    7.540866e+00       1.456778e+04    3.665488e+03  \n",
              "max    1.563267e+03       1.997076e+07    1.989199e+04  "
            ]
          },
          "metadata": {
            "tags": []
          },
          "execution_count": 16
        }
      ]
    },
    {
      "metadata": {
        "id": "AjVyb6jgKc4l",
        "colab_type": "code",
        "colab": {}
      },
      "cell_type": "code",
      "source": [
        ""
      ],
      "execution_count": 0,
      "outputs": []
    }
  ]
}